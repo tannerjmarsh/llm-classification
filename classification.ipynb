{
 "cells": [
  {
   "cell_type": "code",
   "execution_count": 56,
   "metadata": {},
   "outputs": [],
   "source": [
    "from datasets import load_dataset_builder, load_dataset, get_dataset_infos, get_dataset_config_names, list_datasets\n",
    "from langchain.prompts import load_prompt\n",
    "from langchain.prompts import PromptTemplate\n",
    "from langchain.chat_models import ChatOpenAI\n",
    "from langchain.schema.output_parser import StrOutputParser\n",
    "from langchain.schema.runnable import RunnablePassthrough, RunnableLambda\n",
    "from langchain.chat_models import ChatOpenAI\n",
    "from operator import itemgetter\n",
    "from sklearn.model_selection import train_test_split\n",
    "import yaml\n",
    "import pandas as pd\n",
    "import numpy as np"
   ]
  },
  {
   "cell_type": "code",
   "execution_count": 57,
   "metadata": {},
   "outputs": [],
   "source": [
    "# list_datasets()"
   ]
  },
  {
   "cell_type": "markdown",
   "metadata": {},
   "source": [
    "# Data"
   ]
  },
  {
   "cell_type": "code",
   "execution_count": 92,
   "metadata": {},
   "outputs": [],
   "source": [
    "def load_dataset_by_name(name):\n",
    "    df = pd.read_csv(f\"data/{name}_data.csv\")\n",
    "    df.columns.values[0] = 'text'\n",
    "    df.columns.values[1] = 'class'      \n",
    "    df = df.dropna()\n",
    "    return df"
   ]
  },
  {
   "cell_type": "code",
   "execution_count": 133,
   "metadata": {},
   "outputs": [],
   "source": [
    "def split_datasets(df_dict, test_size=0.2):\n",
    "    df_dict_train = {}\n",
    "    df_dict_test = {}\n",
    "\n",
    "    for dataset, df in df_dict.items():\n",
    "        df_train, df_test = train_test_split(df, test_size=0.2, random_state=42)\n",
    "        df_dict_train[dataset] = df_train\n",
    "        df_dict_test[dataset] = df_test\n",
    "    return df_dict_train, df_dict_test\n",
    "\n",
    "def construct_example_strings(df):\n",
    "    df_dict_examples = {}\n",
    "    for dataset_name, dataset_df in df.items():\n",
    "        df_dict_examples[dataset_name] = dataset_df.apply(lambda x: f\"{x['text']}[{x['class']}]\", axis=1).tolist()\n",
    "    return df_dict_examples"
   ]
  },
  {
   "cell_type": "code",
   "execution_count": 134,
   "metadata": {},
   "outputs": [],
   "source": [
    "my_datasets = [\"lowercase\", \"imdb_numbers\", \"imdb_digits\", \"backpack\"]\n",
    "df_dict = {name: load_dataset_by_name(name) for name in my_datasets}\n",
    "\n",
    "dict_train, dict_test = split_datasets(df_dict)\n",
    "dict_examples = construct_example_strings(dict_train)"
   ]
  },
  {
   "cell_type": "markdown",
   "metadata": {},
   "source": [
    "# Model"
   ]
  },
  {
   "cell_type": "code",
   "execution_count": 147,
   "metadata": {},
   "outputs": [],
   "source": [
    "def get_examples(x):\n",
    "    dataset = x['dataset']\n",
    "    examples = dict_examples[dataset]\n",
    "\n",
    "    if 'n_examples' in x:\n",
    "        n_examples = x['n_examples']\n",
    "        examples = examples[:n_examples]\n",
    "\n",
    "    \"\\n\".join(examples)\n",
    "    return examples"
   ]
  },
  {
   "cell_type": "code",
   "execution_count": 148,
   "metadata": {},
   "outputs": [],
   "source": [
    "# model\n",
    "model_types = {\"gpt-4\": \"gpt-4-1106-preview\", \"gpt-3\":\"gpt-3.5-turbo\"}\n",
    "model = ChatOpenAI(model=model_types['gpt-4'])"
   ]
  },
  {
   "cell_type": "code",
   "execution_count": 154,
   "metadata": {},
   "outputs": [],
   "source": [
    "# prompt\n",
    "template_path = \"templates/classification_2.yaml\"\n",
    "prompt_template = load_prompt(template_path)"
   ]
  },
  {
   "cell_type": "code",
   "execution_count": 155,
   "metadata": {},
   "outputs": [],
   "source": [
    "chain = (\n",
    "    RunnablePassthrough.assign(\n",
    "        examples=RunnableLambda(get_examples)\n",
    "    )\n",
    "    | prompt_template\n",
    "    | model\n",
    "    | StrOutputParser()\n",
    ")"
   ]
  },
  {
   "cell_type": "code",
   "execution_count": 156,
   "metadata": {},
   "outputs": [],
   "source": [
    "n_test = 20\n",
    "test_dataset_name = \"backpack\"\n",
    "test = dict_test[test_dataset_name][:n_test]\n",
    "\n"
   ]
  },
  {
   "cell_type": "code",
   "execution_count": 157,
   "metadata": {},
   "outputs": [],
   "source": [
    "# input = \"\\n\".join([f\"{i+1}. {sentence}\" for i, sentence in enumerate(test['text'].tolist())])\n",
    "# def classify_many():\n",
    "#     # input = \"\\n\".join([f\"{i+1}. {sentence}\" for i, sentence in enumerate(test['text'].tolist())])\n",
    "#     inputs = {\"input\": input, \"dataset\": test_dataset_name, \"n_examples\": 100}\n",
    "#     pred = chain.invoke(inputs)\n",
    "#     return pred\n",
    "\n",
    "# pred = classify_many()\n",
    "\n",
    "# def classify_one(sentence):\n",
    "#     inputs = {\"input\": sentence, \"dataset\": test_dataset_name, \"n_examples\": 100}\n",
    "#     pred = chain.invoke(inputs)\n",
    "#     return pred"
   ]
  },
  {
   "cell_type": "code",
   "execution_count": 158,
   "metadata": {},
   "outputs": [
    {
     "name": "stdout",
     "output_type": "stream",
     "text": [
      "Sweatshirt, reusable water bottle, granola bars, multitool, lighter\n",
      "predicted: False\n",
      "actual:  \"True\"\n",
      "\n",
      "Mittens, scarf, beanie, thermos, chocolate bar\n",
      "predicted: \"True\"\n",
      "actual:  \"True\"\n",
      "\n",
      "Chalk, climbing shoes, harness, carabiners, belay device\n",
      "predicted: True\n",
      "actual:  \"False\"\n",
      "\n",
      "Cycling jersey, helmet, sunglasses, tire repair kit, energy bar\n",
      "predicted: True\n",
      "actual:  \"True\"\n",
      "\n",
      "Beanie, thermal flask, trail map, compass, snack\n",
      "predicted: \"True\"\n",
      "actual:  \"True\"\n",
      "\n",
      "Board games, dice, rulebook, scorepad, pencils\n",
      "predicted: False\n",
      "actual:  \"False\"\n",
      "\n",
      "Telescope, star chart, notebook, pen, thermos\n",
      "predicted: False\n",
      "actual:  \"False\"\n",
      "\n",
      "Bandana, flashlight, pocket knife, fire starter, energy bars\n",
      "predicted: True\n",
      "actual:  \"True\"\n",
      "\n",
      "Magic tricks, deck of cards, rabbit, top hat, wand\n",
      "predicted: False\n",
      "actual:  \"False\"\n",
      "\n",
      "Rain jacket, portable charger, earphones, diary, pen\n",
      "predicted: \"True\"\n",
      "actual:  \"True\"\n",
      "\n"
     ]
    }
   ],
   "source": [
    "results = []\n",
    "for index, row in test.iterrows():\n",
    "    text = row['text']\n",
    "    ground_truth = row['class']\n",
    "    \n",
    "    inputs = {\"input\": text, \"dataset\": test_dataset_name}\n",
    "    pred = chain.invoke(inputs)\n",
    "    results.append((text, ground_truth, pred))\n",
    "\n",
    "    print(text)\n",
    "    print(f\"predicted: {pred}\")\n",
    "    print(f\"actual: {ground_truth}\")\n",
    "    print()\n",
    "\n",
    "results_df = pd.DataFrame(results, columns=[\"text\", \"ground_truth\", \"prediction\"])"
   ]
  },
  {
   "cell_type": "code",
   "execution_count": 158,
   "metadata": {},
   "outputs": [
    {
     "data": {
      "text/html": [
       "<div>\n",
       "<style scoped>\n",
       "    .dataframe tbody tr th:only-of-type {\n",
       "        vertical-align: middle;\n",
       "    }\n",
       "\n",
       "    .dataframe tbody tr th {\n",
       "        vertical-align: top;\n",
       "    }\n",
       "\n",
       "    .dataframe thead th {\n",
       "        text-align: right;\n",
       "    }\n",
       "</style>\n",
       "<table border=\"1\" class=\"dataframe\">\n",
       "  <thead>\n",
       "    <tr style=\"text-align: right;\">\n",
       "      <th></th>\n",
       "      <th>text</th>\n",
       "      <th>ground_truth</th>\n",
       "      <th>prediction</th>\n",
       "    </tr>\n",
       "  </thead>\n",
       "  <tbody>\n",
       "    <tr>\n",
       "      <th>0</th>\n",
       "      <td>Tea tastes BETTER with cookies.</td>\n",
       "      <td>False</td>\n",
       "      <td>Classification: True\\n\\nExplanation: The sente...</td>\n",
       "    </tr>\n",
       "    <tr>\n",
       "      <th>1</th>\n",
       "      <td>Travel broadens the MIND.</td>\n",
       "      <td>False</td>\n",
       "      <td>Classification: True\\n\\nExplanation: The sente...</td>\n",
       "    </tr>\n",
       "    <tr>\n",
       "      <th>2</th>\n",
       "      <td>Children LOVE to play games.</td>\n",
       "      <td>False</td>\n",
       "      <td>Classification: True\\n\\nExplanation: The sente...</td>\n",
       "    </tr>\n",
       "    <tr>\n",
       "      <th>3</th>\n",
       "      <td>LIFE IS full OF SURPRISES.</td>\n",
       "      <td>False</td>\n",
       "      <td>Classification: True\\n\\nExplanation: This sent...</td>\n",
       "    </tr>\n",
       "    <tr>\n",
       "      <th>4</th>\n",
       "      <td>LEARNING TO COOK can be fun.</td>\n",
       "      <td>False</td>\n",
       "      <td>Classification: True\\n\\nExplanation: The sente...</td>\n",
       "    </tr>\n",
       "    <tr>\n",
       "      <th>5</th>\n",
       "      <td>Good COMMUNICATION skills are crucial.</td>\n",
       "      <td>False</td>\n",
       "      <td>Classification: False\\n\\nExplanation: The sent...</td>\n",
       "    </tr>\n",
       "    <tr>\n",
       "      <th>6</th>\n",
       "      <td>Learning new languages is INTERESTING.</td>\n",
       "      <td>False</td>\n",
       "      <td>Classification: False\\n\\nExplanation: The sent...</td>\n",
       "    </tr>\n",
       "    <tr>\n",
       "      <th>7</th>\n",
       "      <td>Healthy EATING IS important for WELL-BEING.</td>\n",
       "      <td>False</td>\n",
       "      <td>Classification: True\\n\\nExplanation: The sente...</td>\n",
       "    </tr>\n",
       "    <tr>\n",
       "      <th>8</th>\n",
       "      <td>i enjoy cooking new recipes.</td>\n",
       "      <td>True</td>\n",
       "      <td>Classification: True\\n\\nExplanation: The sente...</td>\n",
       "    </tr>\n",
       "    <tr>\n",
       "      <th>9</th>\n",
       "      <td>Photography is an ART.</td>\n",
       "      <td>False</td>\n",
       "      <td>Classification: False\\n\\nExplanation: The sent...</td>\n",
       "    </tr>\n",
       "  </tbody>\n",
       "</table>\n",
       "</div>"
      ],
      "text/plain": [
       "                                          text  ground_truth  \\\n",
       "0              Tea tastes BETTER with cookies.         False   \n",
       "1                    Travel broadens the MIND.         False   \n",
       "2                 Children LOVE to play games.         False   \n",
       "3                   LIFE IS full OF SURPRISES.         False   \n",
       "4                 LEARNING TO COOK can be fun.         False   \n",
       "5       Good COMMUNICATION skills are crucial.         False   \n",
       "6       Learning new languages is INTERESTING.         False   \n",
       "7  Healthy EATING IS important for WELL-BEING.         False   \n",
       "8                 i enjoy cooking new recipes.          True   \n",
       "9                       Photography is an ART.         False   \n",
       "\n",
       "                                          prediction  \n",
       "0  Classification: True\\n\\nExplanation: The sente...  \n",
       "1  Classification: True\\n\\nExplanation: The sente...  \n",
       "2  Classification: True\\n\\nExplanation: The sente...  \n",
       "3  Classification: True\\n\\nExplanation: This sent...  \n",
       "4  Classification: True\\n\\nExplanation: The sente...  \n",
       "5  Classification: False\\n\\nExplanation: The sent...  \n",
       "6  Classification: False\\n\\nExplanation: The sent...  \n",
       "7  Classification: True\\n\\nExplanation: The sente...  \n",
       "8  Classification: True\\n\\nExplanation: The sente...  \n",
       "9  Classification: False\\n\\nExplanation: The sent...  "
      ]
     },
     "execution_count": 158,
     "metadata": {},
     "output_type": "execute_result"
    }
   ],
   "source": [
    "results_df"
   ]
  },
  {
   "cell_type": "code",
   "execution_count": null,
   "metadata": {},
   "outputs": [],
   "source": []
  }
 ],
 "metadata": {
  "kernelspec": {
   "display_name": "adschat-jmOWAmzn",
   "language": "python",
   "name": "python3"
  },
  "language_info": {
   "codemirror_mode": {
    "name": "ipython",
    "version": 3
   },
   "file_extension": ".py",
   "mimetype": "text/x-python",
   "name": "python",
   "nbconvert_exporter": "python",
   "pygments_lexer": "ipython3",
   "version": "3.11.3"
  }
 },
 "nbformat": 4,
 "nbformat_minor": 2
}

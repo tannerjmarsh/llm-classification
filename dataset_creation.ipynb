{
 "cells": [
  {
   "cell_type": "code",
   "execution_count": 2,
   "metadata": {},
   "outputs": [
    {
     "name": "stderr",
     "output_type": "stream",
     "text": [
      "/Users/tannermarsh/.local/share/virtualenvs/adschat-jmOWAmzn/lib/python3.11/site-packages/tqdm/auto.py:21: TqdmWarning: IProgress not found. Please update jupyter and ipywidgets. See https://ipywidgets.readthedocs.io/en/stable/user_install.html\n",
      "  from .autonotebook import tqdm as notebook_tqdm\n"
     ]
    }
   ],
   "source": [
    "from datasets import load_dataset_builder, load_dataset, get_dataset_infos, get_dataset_config_names, list_datasets, get_dataset_split_names\n",
    "import pandas as pd\n",
    "from typing import Callable, Dict, List, Optional, Tuple, Union\n"
   ]
  },
  {
   "cell_type": "markdown",
   "metadata": {},
   "source": [
    "### Utility functions"
   ]
  },
  {
   "cell_type": "code",
   "execution_count": 7,
   "metadata": {},
   "outputs": [],
   "source": [
    "def add_true_false_labels(df, idx):\n",
    "    df['class'] = False\n",
    "    df.loc[idx, 'class'] = True\n",
    "    return df\n",
    "\n",
    "def add_type_labels(df, idx):\n",
    "    df['class'] = \"Type 1\"\n",
    "    df.loc[idx, 'class'] = \"Type 2\"\n",
    "    return df\n",
    "\n",
    "def rebalance(df):\n",
    "    # Separate the DataFrame into positive and negative examples\n",
    "    positive_df = df[df['class'] == True]\n",
    "    negative_df = df[df['class'] == False]\n",
    "\n",
    "    # Determine the smaller count\n",
    "    min_count = min(len(positive_df), len(negative_df))\n",
    "\n",
    "    # Sample from the larger group\n",
    "    if len(positive_df) > len(negative_df):\n",
    "        positive_df = positive_df.sample(n=min_count)\n",
    "    else:\n",
    "        negative_df = negative_df.sample(n=min_count)\n",
    "\n",
    "    # Concatenate both DataFrames\n",
    "    balanced_df = pd.concat([positive_df, negative_df])\n",
    "\n",
    "    # Shuffle the DataFrame if needed\n",
    "    balanced_df = balanced_df.sample(frac=1).reset_index(drop=True)\n",
    "\n",
    "    return balanced_df\n",
    "\n",
    "def save_dataset(df: pd.DataFrame, name: str, label_map: Callable = None):\n",
    "    if label_map:\n",
    "        df['class'] = df['class'].apply(label_map)\n",
    "    df.to_csv(f\"data/{name}_data.csv\", index=False)"
   ]
  },
  {
   "cell_type": "markdown",
   "metadata": {},
   "source": [
    "## Datasets"
   ]
  },
  {
   "cell_type": "markdown",
   "metadata": {},
   "source": [
    "#### imdb Digits"
   ]
  },
  {
   "cell_type": "code",
   "execution_count": 8,
   "metadata": {},
   "outputs": [],
   "source": [
    "get_dataset_split_names(\"imdb\")\n",
    "dataset = load_dataset(\"imdb\", split=\"unsupervised\")\n",
    "\n",
    "dataset_name = \"imdb_digits\""
   ]
  },
  {
   "cell_type": "code",
   "execution_count": 9,
   "metadata": {},
   "outputs": [],
   "source": [
    "# numbers = set(['zero', 'one', 'two', 'three', 'four', 'five', 'six', 'seven', 'eight', 'nine']).union(set('0123456789'))\n",
    "digits = set('0123456789')"
   ]
  },
  {
   "cell_type": "code",
   "execution_count": 10,
   "metadata": {},
   "outputs": [],
   "source": [
    "# put the first n items of dataset into a pandas dataframe\n",
    "n = 300\n",
    "texts = dataset['text'][:n]\n",
    "df = pd.DataFrame(texts, columns=['text'])\n",
    "\n",
    "# remove everything after the first period\n",
    "df['text'] = df['text'].map(lambda x: x[:x.find('.')+1])\n",
    "\n",
    "#iterate over the dataframe and find the sentences that contain digits\n",
    "number_sentences_idx = []\n",
    "for index, row in df.iterrows():\n",
    "    sentence_set = set(row['text'].split()).union(set(row['text']))\n",
    "    if sentence_set.intersection(digits):\n",
    "        number_sentences_idx.append(index)"
   ]
  },
  {
   "cell_type": "code",
   "execution_count": 11,
   "metadata": {},
   "outputs": [],
   "source": [
    "add_type_labels(df, number_sentences_idx)\n",
    "balanced_df = rebalance(df)\n",
    "balanced_df.to_csv(f\"data/{dataset_name}_data.csv\", index=False)"
   ]
  },
  {
   "cell_type": "markdown",
   "metadata": {},
   "source": [
    "#### Single digit arithmetic"
   ]
  },
  {
   "cell_type": "code",
   "execution_count": 12,
   "metadata": {},
   "outputs": [],
   "source": [
    "import random\n",
    "\n",
    "def generate_addition_strings(num_strings):\n",
    "    strings = []\n",
    "    for _ in range(num_strings):\n",
    "        a = random.randint(0, 9)\n",
    "        b = random.randint(0, 9)\n",
    "        correct_c = a + b\n",
    "        incorrect_c = random.randint(0, 18)  # Generate a random incorrect value for c\n",
    "        while incorrect_c == correct_c:\n",
    "            incorrect_c = random.randint(0, 18)\n",
    "\n",
    "        if random.random() < 0.5:\n",
    "            c = correct_c\n",
    "            is_correct = True\n",
    "        else:\n",
    "            c = incorrect_c\n",
    "            is_correct = False\n",
    "\n",
    "        string = f\"{a} + {b} = {c}\"\n",
    "        strings.append((string, is_correct))\n",
    "\n",
    "    return strings"
   ]
  },
  {
   "cell_type": "code",
   "execution_count": 13,
   "metadata": {},
   "outputs": [],
   "source": [
    "addition_df = pd.DataFrame(generate_addition_strings(100), columns=['text', 'class'])\n",
    "\n",
    "# convert class column to boolean\n",
    "addition_df['class'] = addition_df['class'].astype(bool)"
   ]
  },
  {
   "cell_type": "code",
   "execution_count": 14,
   "metadata": {},
   "outputs": [],
   "source": [
    "save_dataset(addition_df, name=\"sd_addition\", label_map=None)"
   ]
  },
  {
   "cell_type": "code",
   "execution_count": 15,
   "metadata": {},
   "outputs": [
    {
     "data": {
      "text/plain": [
       "numpy.bool_"
      ]
     },
     "execution_count": 15,
     "metadata": {},
     "output_type": "execute_result"
    }
   ],
   "source": [
    "type(addition_df['class'][0])"
   ]
  },
  {
   "cell_type": "markdown",
   "metadata": {},
   "source": [
    "#### Double Digit Arithmetic"
   ]
  },
  {
   "cell_type": "code",
   "execution_count": 80,
   "metadata": {},
   "outputs": [],
   "source": [
    "def generate_dd_strings(num_strings):\n",
    "    strings = []\n",
    "    for _ in range(num_strings):\n",
    "        a = random.randint(10, 99)\n",
    "        b = random.randint(10, 99)\n",
    "        correct_c = a + b\n",
    "        incorrect_c = random.randint(20, 198)  # Generate a random incorrect value for c\n",
    "        while incorrect_c == correct_c:\n",
    "            incorrect_c = random.randint(20, 198)\n",
    "\n",
    "        if random.random() < 0.5:\n",
    "            c = correct_c\n",
    "            is_correct = True\n",
    "        else:\n",
    "            c = incorrect_c\n",
    "            is_correct = False\n",
    "\n",
    "        string = f\"{a} + {b} = {c}\"\n",
    "        strings.append((string, is_correct))\n",
    "\n",
    "    return strings"
   ]
  },
  {
   "cell_type": "code",
   "execution_count": 81,
   "metadata": {},
   "outputs": [],
   "source": [
    "addition_df = pd.DataFrame(generate_dd_strings(100), columns=['text', 'class'])\n",
    "addition_df['class'] = addition_df['class'].astype(bool)\n",
    "save_dataset(addition_df, name=\"dd_addition\", label_map=None)"
   ]
  },
  {
   "cell_type": "markdown",
   "metadata": {},
   "source": [
    "#### GPT Digits"
   ]
  },
  {
   "cell_type": "markdown",
   "metadata": {},
   "source": [
    "Validate GPT-4 generated data"
   ]
  },
  {
   "cell_type": "code",
   "execution_count": 35,
   "metadata": {},
   "outputs": [],
   "source": [
    "df_digits = pd.read_csv(\"data/unprocessed/gpt_digits_data.csv\")\n",
    "df_digits['Contains Digit'].astype(bool)\n",
    "digits = set('0123456789')\n",
    "for idx, row in df_digits.copy().iterrows():\n",
    "    if row['Contains Digit'] and not set(row['Sentence']).intersection(digits):\n",
    "        df_digits.at[idx, 'Contains Digit'] = False\n",
    "    elif not row['Contains Digit'] and set(row['Sentence']).intersection(digits):\n",
    "       df_digits.at[idx, 'Contains Digit'] = True\n",
    "\n",
    "df_digits.to_csv(\"data/gpt_digits_data.csv\", index=False)"
   ]
  },
  {
   "cell_type": "markdown",
   "metadata": {},
   "source": [
    "#### Backpack"
   ]
  },
  {
   "cell_type": "code",
   "execution_count": 66,
   "metadata": {},
   "outputs": [],
   "source": [
    "df_backpack = pd.read_csv(\"data/unprocessed/backpack_data.csv\")\n",
    "df_backpack.columns = ['items', 'clothing']\n",
    "df_backpack['clothing'] = df_backpack['clothing'].map(lambda x: x.strip().strip(\"\\\"\"))\n",
    "df_backpack.to_csv(\"data/backpack_data.csv\", index=False)"
   ]
  },
  {
   "cell_type": "code",
   "execution_count": 65,
   "metadata": {},
   "outputs": [
    {
     "data": {
      "text/html": [
       "<div>\n",
       "<style scoped>\n",
       "    .dataframe tbody tr th:only-of-type {\n",
       "        vertical-align: middle;\n",
       "    }\n",
       "\n",
       "    .dataframe tbody tr th {\n",
       "        vertical-align: top;\n",
       "    }\n",
       "\n",
       "    .dataframe thead th {\n",
       "        text-align: right;\n",
       "    }\n",
       "</style>\n",
       "<table border=\"1\" class=\"dataframe\">\n",
       "  <thead>\n",
       "    <tr style=\"text-align: right;\">\n",
       "      <th></th>\n",
       "      <th>items</th>\n",
       "      <th>clothing</th>\n",
       "    </tr>\n",
       "  </thead>\n",
       "  <tbody>\n",
       "    <tr>\n",
       "      <th>0</th>\n",
       "      <td>Notebook, pen, water bottle, laptop, headphone...</td>\n",
       "      <td>False</td>\n",
       "    </tr>\n",
       "    <tr>\n",
       "      <th>1</th>\n",
       "      <td>T-shirt, apple, sunglasses, wallet, keys</td>\n",
       "      <td>True</td>\n",
       "    </tr>\n",
       "    <tr>\n",
       "      <th>2</th>\n",
       "      <td>Pencil case, textbook, ruler, eraser, highligh...</td>\n",
       "      <td>False</td>\n",
       "    </tr>\n",
       "    <tr>\n",
       "      <th>3</th>\n",
       "      <td>Jeans, charger, earbuds, notebook, hand sanitizer</td>\n",
       "      <td>True</td>\n",
       "    </tr>\n",
       "    <tr>\n",
       "      <th>4</th>\n",
       "      <td>Planner, tissues, snack bar, gum, hand lotion,...</td>\n",
       "      <td>False</td>\n",
       "    </tr>\n",
       "    <tr>\n",
       "      <th>...</th>\n",
       "      <td>...</td>\n",
       "      <td>...</td>\n",
       "    </tr>\n",
       "    <tr>\n",
       "      <th>85</th>\n",
       "      <td>Leather jacket, motorcycle gloves, bandana, su...</td>\n",
       "      <td>True</td>\n",
       "    </tr>\n",
       "    <tr>\n",
       "      <th>86</th>\n",
       "      <td>Cliff bars, hydration pack, GPS watch, map, co...</td>\n",
       "      <td>False</td>\n",
       "    </tr>\n",
       "    <tr>\n",
       "      <th>87</th>\n",
       "      <td>Sun hat, beach cover-up, swimsuit, sandals, su...</td>\n",
       "      <td>True</td>\n",
       "    </tr>\n",
       "    <tr>\n",
       "      <th>88</th>\n",
       "      <td>History textbook, notebook, pens, highlighters...</td>\n",
       "      <td>False</td>\n",
       "    </tr>\n",
       "    <tr>\n",
       "      <th>89</th>\n",
       "      <td>Cardigan, blouse, skirt, tights, ballet flats</td>\n",
       "      <td>True</td>\n",
       "    </tr>\n",
       "  </tbody>\n",
       "</table>\n",
       "<p>90 rows × 2 columns</p>\n",
       "</div>"
      ],
      "text/plain": [
       "                                                items clothing\n",
       "0   Notebook, pen, water bottle, laptop, headphone...    False\n",
       "1            T-shirt, apple, sunglasses, wallet, keys     True\n",
       "2   Pencil case, textbook, ruler, eraser, highligh...    False\n",
       "3   Jeans, charger, earbuds, notebook, hand sanitizer     True\n",
       "4   Planner, tissues, snack bar, gum, hand lotion,...    False\n",
       "..                                                ...      ...\n",
       "85  Leather jacket, motorcycle gloves, bandana, su...     True\n",
       "86  Cliff bars, hydration pack, GPS watch, map, co...    False\n",
       "87  Sun hat, beach cover-up, swimsuit, sandals, su...     True\n",
       "88  History textbook, notebook, pens, highlighters...    False\n",
       "89      Cardigan, blouse, skirt, tights, ballet flats     True\n",
       "\n",
       "[90 rows x 2 columns]"
      ]
     },
     "execution_count": 65,
     "metadata": {},
     "output_type": "execute_result"
    }
   ],
   "source": []
  },
  {
   "cell_type": "markdown",
   "metadata": {},
   "source": [
    "#### Simple Punctuation"
   ]
  },
  {
   "cell_type": "code",
   "execution_count": 68,
   "metadata": {},
   "outputs": [],
   "source": [
    "punctuation_df = pd.read_csv(\"data/unprocessed/simple_punctuation_data.csv\")"
   ]
  },
  {
   "cell_type": "code",
   "execution_count": 72,
   "metadata": {},
   "outputs": [],
   "source": [
    "import csv\n",
    "\n",
    "file_path = \"data/unprocessed/simple_punctuation_data.csv\"\n",
    "modified_sentences = []\n",
    "\n",
    "with open(file_path, \"r\") as file:\n",
    "    reader = csv.reader(file)\n",
    "    for line in reader:\n",
    "        sentence = line[0]\n",
    "        if random.random() < 1/3:\n",
    "            sentence = sentence.rstrip(\".\") + \"!\"\n",
    "        modified_sentences.append((sentence, sentence.endswith(\"!\")))\n",
    "\n",
    "df = pd.DataFrame(modified_sentences, columns=[\"text\", \"class\"])\n"
   ]
  },
  {
   "cell_type": "code",
   "execution_count": 75,
   "metadata": {},
   "outputs": [
    {
     "data": {
      "text/html": [
       "<div>\n",
       "<style scoped>\n",
       "    .dataframe tbody tr th:only-of-type {\n",
       "        vertical-align: middle;\n",
       "    }\n",
       "\n",
       "    .dataframe tbody tr th {\n",
       "        vertical-align: top;\n",
       "    }\n",
       "\n",
       "    .dataframe thead th {\n",
       "        text-align: right;\n",
       "    }\n",
       "</style>\n",
       "<table border=\"1\" class=\"dataframe\">\n",
       "  <thead>\n",
       "    <tr style=\"text-align: right;\">\n",
       "      <th></th>\n",
       "      <th>text</th>\n",
       "      <th>class</th>\n",
       "    </tr>\n",
       "  </thead>\n",
       "  <tbody>\n",
       "    <tr>\n",
       "      <th>0</th>\n",
       "      <td>The cat sleeps on the windowsill.</td>\n",
       "      <td>False</td>\n",
       "    </tr>\n",
       "    <tr>\n",
       "      <th>1</th>\n",
       "      <td>A red bicycle leaned against the fence.</td>\n",
       "      <td>False</td>\n",
       "    </tr>\n",
       "    <tr>\n",
       "      <th>2</th>\n",
       "      <td>He read the book in one evening.</td>\n",
       "      <td>False</td>\n",
       "    </tr>\n",
       "    <tr>\n",
       "      <th>3</th>\n",
       "      <td>She baked cookies for the school fair.</td>\n",
       "      <td>False</td>\n",
       "    </tr>\n",
       "    <tr>\n",
       "      <th>4</th>\n",
       "      <td>The clock struck midnight.</td>\n",
       "      <td>False</td>\n",
       "    </tr>\n",
       "    <tr>\n",
       "      <th>...</th>\n",
       "      <td>...</td>\n",
       "      <td>...</td>\n",
       "    </tr>\n",
       "    <tr>\n",
       "      <th>95</th>\n",
       "      <td>He read the news on his phone!</td>\n",
       "      <td>True</td>\n",
       "    </tr>\n",
       "    <tr>\n",
       "      <th>96</th>\n",
       "      <td>The bridge spanned the wide river!</td>\n",
       "      <td>True</td>\n",
       "    </tr>\n",
       "    <tr>\n",
       "      <th>97</th>\n",
       "      <td>They baked a pie for dessert!</td>\n",
       "      <td>True</td>\n",
       "    </tr>\n",
       "    <tr>\n",
       "      <th>98</th>\n",
       "      <td>The sun set over the ocean.</td>\n",
       "      <td>False</td>\n",
       "    </tr>\n",
       "    <tr>\n",
       "      <th>99</th>\n",
       "      <td>She finished the marathon triumphantly.</td>\n",
       "      <td>False</td>\n",
       "    </tr>\n",
       "  </tbody>\n",
       "</table>\n",
       "<p>100 rows × 2 columns</p>\n",
       "</div>"
      ],
      "text/plain": [
       "                                       text  class\n",
       "0         The cat sleeps on the windowsill.  False\n",
       "1   A red bicycle leaned against the fence.  False\n",
       "2          He read the book in one evening.  False\n",
       "3    She baked cookies for the school fair.  False\n",
       "4                The clock struck midnight.  False\n",
       "..                                      ...    ...\n",
       "95           He read the news on his phone!   True\n",
       "96       The bridge spanned the wide river!   True\n",
       "97            They baked a pie for dessert!   True\n",
       "98              The sun set over the ocean.  False\n",
       "99  She finished the marathon triumphantly.  False\n",
       "\n",
       "[100 rows x 2 columns]"
      ]
     },
     "execution_count": 75,
     "metadata": {},
     "output_type": "execute_result"
    }
   ],
   "source": [
    "df"
   ]
  },
  {
   "cell_type": "code",
   "execution_count": 74,
   "metadata": {},
   "outputs": [],
   "source": [
    "df.to_csv(\"data/simple_punctuation_data.csv\", index=False)"
   ]
  },
  {
   "cell_type": "markdown",
   "metadata": {},
   "source": [
    "#### Complex Punctuation"
   ]
  },
  {
   "cell_type": "code",
   "execution_count": 76,
   "metadata": {},
   "outputs": [],
   "source": [
    "file_path = \"data/unprocessed/simple_punctuation_data.csv\"\n",
    "modified_sentences = []\n",
    "\n",
    "with open(file_path, \"r\") as file:\n",
    "    reader = csv.reader(file)\n",
    "    for line in reader:\n",
    "        sentence = line[0]\n",
    "        random_num = random.random()\n",
    "        if random_num < 1/4:\n",
    "            sentence = sentence.rstrip(\".\") + \"!\"\n",
    "        elif random_num >= 1/4 and random_num < 2/4:\n",
    "            sentence = sentence.rstrip(\".\") + \"?\"\n",
    "        modified_sentences.append((sentence, sentence.endswith(\"!\") or sentence.endswith(\"?\")))\n",
    "\n",
    "df = pd.DataFrame(modified_sentences, columns=[\"text\", \"class\"])"
   ]
  },
  {
   "cell_type": "code",
   "execution_count": 77,
   "metadata": {},
   "outputs": [],
   "source": [
    "df.to_csv(\"data/medium_punctuation_data.csv\", index=False)"
   ]
  },
  {
   "cell_type": "markdown",
   "metadata": {},
   "source": []
  }
 ],
 "metadata": {
  "kernelspec": {
   "display_name": "adschat-jmOWAmzn",
   "language": "python",
   "name": "python3"
  },
  "language_info": {
   "codemirror_mode": {
    "name": "ipython",
    "version": 3
   },
   "file_extension": ".py",
   "mimetype": "text/x-python",
   "name": "python",
   "nbconvert_exporter": "python",
   "pygments_lexer": "ipython3",
   "version": "3.11.3"
  }
 },
 "nbformat": 4,
 "nbformat_minor": 2
}

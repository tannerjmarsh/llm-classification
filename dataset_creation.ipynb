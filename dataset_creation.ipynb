{
 "cells": [
  {
   "cell_type": "code",
   "execution_count": 2,
   "metadata": {},
   "outputs": [
    {
     "name": "stderr",
     "output_type": "stream",
     "text": [
      "/Users/tannermarsh/.local/share/virtualenvs/adschat-jmOWAmzn/lib/python3.11/site-packages/tqdm/auto.py:21: TqdmWarning: IProgress not found. Please update jupyter and ipywidgets. See https://ipywidgets.readthedocs.io/en/stable/user_install.html\n",
      "  from .autonotebook import tqdm as notebook_tqdm\n"
     ]
    }
   ],
   "source": [
    "from datasets import load_dataset_builder, load_dataset, get_dataset_infos, get_dataset_config_names, list_datasets, get_dataset_split_names\n",
    "import pandas as pd\n",
    "from typing import Callable, Dict, List, Optional, Tuple, Union\n"
   ]
  },
  {
   "cell_type": "markdown",
   "metadata": {},
   "source": [
    "### Utility functions"
   ]
  },
  {
   "cell_type": "code",
   "execution_count": 7,
   "metadata": {},
   "outputs": [],
   "source": [
    "def add_true_false_labels(df, idx):\n",
    "    df['class'] = False\n",
    "    df.loc[idx, 'class'] = True\n",
    "    return df\n",
    "\n",
    "def add_type_labels(df, idx):\n",
    "    df['class'] = \"Type 1\"\n",
    "    df.loc[idx, 'class'] = \"Type 2\"\n",
    "    return df\n",
    "\n",
    "def rebalance(df):\n",
    "    # Separate the DataFrame into positive and negative examples\n",
    "    positive_df = df[df['class'] == True]\n",
    "    negative_df = df[df['class'] == False]\n",
    "\n",
    "    # Determine the smaller count\n",
    "    min_count = min(len(positive_df), len(negative_df))\n",
    "\n",
    "    # Sample from the larger group\n",
    "    if len(positive_df) > len(negative_df):\n",
    "        positive_df = positive_df.sample(n=min_count)\n",
    "    else:\n",
    "        negative_df = negative_df.sample(n=min_count)\n",
    "\n",
    "    # Concatenate both DataFrames\n",
    "    balanced_df = pd.concat([positive_df, negative_df])\n",
    "\n",
    "    # Shuffle the DataFrame if needed\n",
    "    balanced_df = balanced_df.sample(frac=1).reset_index(drop=True)\n",
    "\n",
    "    return balanced_df\n",
    "\n",
    "def save_dataset(df: pd.DataFrame, name: str, label_map: Callable = None):\n",
    "    if label_map:\n",
    "        df['class'] = df['class'].apply(label_map)\n",
    "    df.to_csv(f\"data/{name}_data.csv\", index=False)"
   ]
  },
  {
   "cell_type": "markdown",
   "metadata": {},
   "source": [
    "## Datasets"
   ]
  },
  {
   "cell_type": "markdown",
   "metadata": {},
   "source": [
    "#### imdb Digits"
   ]
  },
  {
   "cell_type": "code",
   "execution_count": 8,
   "metadata": {},
   "outputs": [],
   "source": [
    "get_dataset_split_names(\"imdb\")\n",
    "dataset = load_dataset(\"imdb\", split=\"unsupervised\")\n",
    "\n",
    "dataset_name = \"imdb_digits\""
   ]
  },
  {
   "cell_type": "code",
   "execution_count": 9,
   "metadata": {},
   "outputs": [],
   "source": [
    "# numbers = set(['zero', 'one', 'two', 'three', 'four', 'five', 'six', 'seven', 'eight', 'nine']).union(set('0123456789'))\n",
    "digits = set('0123456789')"
   ]
  },
  {
   "cell_type": "code",
   "execution_count": 10,
   "metadata": {},
   "outputs": [],
   "source": [
    "# put the first n items of dataset into a pandas dataframe\n",
    "n = 300\n",
    "texts = dataset['text'][:n]\n",
    "df = pd.DataFrame(texts, columns=['text'])\n",
    "\n",
    "# remove everything after the first period\n",
    "df['text'] = df['text'].map(lambda x: x[:x.find('.')+1])\n",
    "\n",
    "#iterate over the dataframe and find the sentences that contain digits\n",
    "number_sentences_idx = []\n",
    "for index, row in df.iterrows():\n",
    "    sentence_set = set(row['text'].split()).union(set(row['text']))\n",
    "    if sentence_set.intersection(digits):\n",
    "        number_sentences_idx.append(index)"
   ]
  },
  {
   "cell_type": "code",
   "execution_count": 11,
   "metadata": {},
   "outputs": [],
   "source": [
    "add_type_labels(df, number_sentences_idx)\n",
    "balanced_df = rebalance(df)\n",
    "balanced_df.to_csv(f\"data/{dataset_name}_data.csv\", index=False)"
   ]
  },
  {
   "cell_type": "markdown",
   "metadata": {},
   "source": [
    "#### Single digit arithmetic"
   ]
  },
  {
   "cell_type": "code",
   "execution_count": 12,
   "metadata": {},
   "outputs": [],
   "source": [
    "import random\n",
    "\n",
    "def generate_addition_strings(num_strings):\n",
    "    strings = []\n",
    "    for _ in range(num_strings):\n",
    "        a = random.randint(0, 9)\n",
    "        b = random.randint(0, 9)\n",
    "        correct_c = a + b\n",
    "        incorrect_c = random.randint(0, 18)  # Generate a random incorrect value for c\n",
    "        while incorrect_c == correct_c:\n",
    "            incorrect_c = random.randint(0, 18)\n",
    "\n",
    "        if random.random() < 0.5:\n",
    "            c = correct_c\n",
    "            is_correct = True\n",
    "        else:\n",
    "            c = incorrect_c\n",
    "            is_correct = False\n",
    "\n",
    "        string = f\"{a} + {b} = {c}\"\n",
    "        strings.append((string, is_correct))\n",
    "\n",
    "    return strings"
   ]
  },
  {
   "cell_type": "code",
   "execution_count": 13,
   "metadata": {},
   "outputs": [],
   "source": [
    "addition_df = pd.DataFrame(generate_addition_strings(100), columns=['text', 'class'])\n",
    "\n",
    "# convert class column to boolean\n",
    "addition_df['class'] = addition_df['class'].astype(bool)"
   ]
  },
  {
   "cell_type": "code",
   "execution_count": 14,
   "metadata": {},
   "outputs": [],
   "source": [
    "save_dataset(addition_df, name=\"sd_addition\", label_map=None)"
   ]
  },
  {
   "cell_type": "code",
   "execution_count": 15,
   "metadata": {},
   "outputs": [
    {
     "data": {
      "text/plain": [
       "numpy.bool_"
      ]
     },
     "execution_count": 15,
     "metadata": {},
     "output_type": "execute_result"
    }
   ],
   "source": [
    "type(addition_df['class'][0])"
   ]
  },
  {
   "cell_type": "markdown",
   "metadata": {},
   "source": [
    "#### GPT Digits"
   ]
  },
  {
   "cell_type": "markdown",
   "metadata": {},
   "source": [
    "Validate GPT-4 generated data"
   ]
  },
  {
   "cell_type": "code",
   "execution_count": 35,
   "metadata": {},
   "outputs": [],
   "source": [
    "df_digits = pd.read_csv(\"data/unprocessed/gpt_digits_data.csv\")\n",
    "df_digits['Contains Digit'].astype(bool)\n",
    "digits = set('0123456789')\n",
    "for idx, row in df_digits.copy().iterrows():\n",
    "    if row['Contains Digit'] and not set(row['Sentence']).intersection(digits):\n",
    "        df_digits.at[idx, 'Contains Digit'] = False\n",
    "    elif not row['Contains Digit'] and set(row['Sentence']).intersection(digits):\n",
    "       df_digits.at[idx, 'Contains Digit'] = True\n",
    "\n",
    "df_digits.to_csv(\"data/gpt_digits_data.csv\", index=False)"
   ]
  }
 ],
 "metadata": {
  "kernelspec": {
   "display_name": "adschat-jmOWAmzn",
   "language": "python",
   "name": "python3"
  },
  "language_info": {
   "codemirror_mode": {
    "name": "ipython",
    "version": 3
   },
   "file_extension": ".py",
   "mimetype": "text/x-python",
   "name": "python",
   "nbconvert_exporter": "python",
   "pygments_lexer": "ipython3",
   "version": "3.11.3"
  }
 },
 "nbformat": 4,
 "nbformat_minor": 2
}

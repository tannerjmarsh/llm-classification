{
 "cells": [
  {
   "cell_type": "code",
   "execution_count": 34,
   "metadata": {},
   "outputs": [],
   "source": [
    "from datasets import load_dataset_builder, load_dataset, get_dataset_infos, get_dataset_config_names, list_datasets, get_dataset_split_names\n",
    "import pandas as pd\n"
   ]
  },
  {
   "cell_type": "markdown",
   "metadata": {},
   "source": [
    "### Utility functions"
   ]
  },
  {
   "cell_type": "code",
   "execution_count": 101,
   "metadata": {},
   "outputs": [],
   "source": [
    "def add_class_labels(df, idx):\n",
    "    df['class'] = False\n",
    "    df.loc[idx, 'class'] = True\n",
    "    return df\n",
    "\n",
    "def rebalance(df):\n",
    "    # Separate the DataFrame into positive and negative examples\n",
    "    positive_df = df[df['class'] == True]\n",
    "    negative_df = df[df['class'] == False]\n",
    "\n",
    "    # Determine the smaller count\n",
    "    min_count = min(len(positive_df), len(negative_df))\n",
    "\n",
    "    # Sample from the larger group\n",
    "    if len(positive_df) > len(negative_df):\n",
    "        positive_df = positive_df.sample(n=min_count)\n",
    "    else:\n",
    "        negative_df = negative_df.sample(n=min_count)\n",
    "\n",
    "    # Concatenate both DataFrames\n",
    "    balanced_df = pd.concat([positive_df, negative_df])\n",
    "\n",
    "    # Shuffle the DataFrame if needed\n",
    "    balanced_df = balanced_df.sample(frac=1).reset_index(drop=True)\n",
    "\n",
    "    return balanced_df"
   ]
  },
  {
   "cell_type": "markdown",
   "metadata": {},
   "source": [
    "## Datasets"
   ]
  },
  {
   "cell_type": "markdown",
   "metadata": {},
   "source": [
    "#### imdb Digits"
   ]
  },
  {
   "cell_type": "code",
   "execution_count": 97,
   "metadata": {},
   "outputs": [],
   "source": [
    "get_dataset_split_names(\"imdb\")\n",
    "dataset = load_dataset(\"imdb\", split=\"unsupervised\")\n",
    "\n",
    "dataset_name = \"imdb_digits\""
   ]
  },
  {
   "cell_type": "code",
   "execution_count": 98,
   "metadata": {},
   "outputs": [],
   "source": [
    "# numbers = set(['zero', 'one', 'two', 'three', 'four', 'five', 'six', 'seven', 'eight', 'nine']).union(set('0123456789'))\n",
    "digits = set('0123456789')"
   ]
  },
  {
   "cell_type": "code",
   "execution_count": 99,
   "metadata": {},
   "outputs": [],
   "source": [
    "# put the first n items of dataset into a pandas dataframe\n",
    "n = 300\n",
    "texts = dataset['text'][:n]\n",
    "df = pd.DataFrame(texts, columns=['text'])\n",
    "\n",
    "# remove everything after the first period\n",
    "df['text'] = df['text'].map(lambda x: x[:x.find('.')+1])\n",
    "\n",
    "#iterate over the dataframe and find the sentences that contain digits\n",
    "number_sentences_idx = []\n",
    "for index, row in df.iterrows():\n",
    "    sentence_set = set(row['text'].split()).union(set(row['text']))\n",
    "    if sentence_set.intersection(digits):\n",
    "        number_sentences_idx.append(index)"
   ]
  },
  {
   "cell_type": "code",
   "execution_count": 102,
   "metadata": {},
   "outputs": [],
   "source": [
    "add_class_labels(df, number_sentences_idx)\n",
    "balanced_df = rebalance(df)\n",
    "balanced_df.to_csv(f\"data/{dataset_name}_data.csv\", index=False)"
   ]
  },
  {
   "cell_type": "code",
   "execution_count": null,
   "metadata": {},
   "outputs": [],
   "source": []
  },
  {
   "cell_type": "code",
   "execution_count": 92,
   "metadata": {},
   "outputs": [],
   "source": []
  },
  {
   "cell_type": "code",
   "execution_count": 91,
   "metadata": {},
   "outputs": [],
   "source": []
  },
  {
   "cell_type": "code",
   "execution_count": null,
   "metadata": {},
   "outputs": [],
   "source": []
  }
 ],
 "metadata": {
  "kernelspec": {
   "display_name": "adschat-jmOWAmzn",
   "language": "python",
   "name": "python3"
  },
  "language_info": {
   "codemirror_mode": {
    "name": "ipython",
    "version": 3
   },
   "file_extension": ".py",
   "mimetype": "text/x-python",
   "name": "python",
   "nbconvert_exporter": "python",
   "pygments_lexer": "ipython3",
   "version": "3.11.3"
  }
 },
 "nbformat": 4,
 "nbformat_minor": 2
}
